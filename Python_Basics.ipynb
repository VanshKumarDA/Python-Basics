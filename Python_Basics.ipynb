{
  "nbformat": 4,
  "nbformat_minor": 0,
  "metadata": {
    "colab": {
      "provenance": []
    },
    "kernelspec": {
      "name": "python3",
      "display_name": "Python 3"
    },
    "language_info": {
      "name": "python"
    }
  },
  "cells": [
    {
      "cell_type": "markdown",
      "source": [
        "#Python Basics Answers"
      ],
      "metadata": {
        "id": "_1o0Ueb3kYQ-"
      }
    },
    {
      "cell_type": "markdown",
      "source": [
        "##Theory"
      ],
      "metadata": {
        "id": "Euu_WfTtk8T3"
      }
    },
    {
      "cell_type": "markdown",
      "source": [
        " 1 What is Python, and why is it popular?\n",
        "\n",
        " ->Python is a programming and formal language for creating instructions for a computer to follow and its popularity comes from features like ease of coding, open source nature, and support for object oriented programming."
      ],
      "metadata": {
        "id": "I_cCjWMAkYBn"
      }
    },
    {
      "cell_type": "markdown",
      "source": [
        "2 What is an interpreter in Python?\n",
        "\n",
        "->It is computer programe that converts a coding language to a machine language."
      ],
      "metadata": {
        "id": "ruum6HF1kXub"
      }
    },
    {
      "cell_type": "markdown",
      "source": [
        "3 What are pre-defined keywords in Python?\n",
        "\n",
        "->Keywords are a reserved words that have special meanings and can not use as identifiers like variables, functions etc. For example: input, if, else, elif, true, false etc."
      ],
      "metadata": {
        "id": "SvAjf32bnUrv"
      }
    },
    {
      "cell_type": "markdown",
      "source": [
        "4 Can keywords be used as variable names?\n",
        "\n",
        "->As keywords are reserved words that have a special meaning and these words reserve their own use so, it can not be used as variable names."
      ],
      "metadata": {
        "id": "P4Zh_BwWnXOu"
      }
    },
    {
      "cell_type": "markdown",
      "source": [
        "5 What is mutability in Python?\n",
        "\n",
        "->Mutable is synonym of changeable or editable so mutable objects like list and dictionaries, have ability to change after it is created."
      ],
      "metadata": {
        "id": "Hk97bcpynXfT"
      }
    },
    {
      "cell_type": "markdown",
      "source": [],
      "metadata": {
        "id": "kFgJuko0p-Xg"
      }
    },
    {
      "cell_type": "markdown",
      "source": [
        "6 Why are lists mutable, but tuples are immutable?\n",
        "\n",
        "->Like strings, we can change the order of items in a list or reassign an item but in tuple, we can not change the order of item in a list. That is why tuples are unchangeable."
      ],
      "metadata": {
        "id": "lFK_hx6mp-e5"
      }
    },
    {
      "cell_type": "markdown",
      "source": [
        "7 What is the difference between “==” and “is” operators in Python?\n",
        "\n",
        "->== is a comparison operator, and it evaluates whether values of two objects are same. On the other hand, is operator defines the checking of two variables point to the same object."
      ],
      "metadata": {
        "id": "-sQLpEEUp-nU"
      }
    },
    {
      "cell_type": "markdown",
      "source": [
        "8 What are logical operators in Python?\n",
        "\n",
        "->In python, logical operators are used to combine conditional statements and the result will be in boolean value. Common logical operators are and, or, not."
      ],
      "metadata": {
        "id": "204K7u7NnXq4"
      }
    },
    {
      "cell_type": "markdown",
      "source": [
        "9 What is type casting in Python?\n",
        "\n",
        "->The process of changing the type of an object/value to another. For example: a=2 <- it is an integer, but it can be changed into string. Just type str(a) and it will be exucuted to \"2\"."
      ],
      "metadata": {
        "id": "-dNsE9mCnXwG"
      }
    },
    {
      "cell_type": "markdown",
      "source": [
        "10 What is the difference between implicit and explicit type casting?\n",
        "\n",
        "->Implicit type casting means the programming language converts the data from type to another without we having to do anything. For example: if we have an integer, we want to assign to a float value, the programming language will convert it automatically. On the other, Explicit type casting means the same but it requires the programmer to specify the desired data type conversion."
      ],
      "metadata": {
        "id": "olH5-iSvnX0P"
      }
    },
    {
      "cell_type": "markdown",
      "source": [
        "11 What is the purpose of conditional statements in Python?\n",
        "\n",
        "->The purpose of conditional statements in Python is to modify the running of our functions. If the value of condition is true then the certain block of code will be executed, and if not, the code will not run."
      ],
      "metadata": {
        "id": "H9wk25i-nX38"
      }
    },
    {
      "cell_type": "markdown",
      "source": [
        "12 How does the elif statement work?\n",
        "\n",
        "->We use elif statement for multiple conditions. Elif is short for else-if. If the if statement is not true then it will go to elif statement, and if that statement is satisfied then the block of code will be executed, if not then it will be executed on the bases of else statement."
      ],
      "metadata": {
        "id": "zd3AMSrO5tXe"
      }
    },
    {
      "cell_type": "markdown",
      "source": [
        "13 What is the difference between for and while loops?\n",
        "\n",
        "->For loop iterates over a sequence of elements >> string and list etc, on the other hand, While loop repeatedly executes a block of code untill a condition is met."
      ],
      "metadata": {
        "id": "4IMmhz5m5tqo"
      }
    },
    {
      "cell_type": "markdown",
      "source": [
        "14 Describe a scenario where a while loop is more suitable than a for loop.\n",
        "\n",
        "->A while loop is more suitable than a for loop in situations where the number of iterations is not known in advance and depends on a dynamic situation that may change during the execution."
      ],
      "metadata": {
        "id": "Rmf-CyBM5usO"
      }
    },
    {
      "cell_type": "markdown",
      "source": [
        "##Practical"
      ],
      "metadata": {
        "id": "_b25CFru_zYt"
      }
    },
    {
      "cell_type": "code",
      "source": [
        "#1 Write a Python program to print \"Hello, World!\"\n",
        "print('Hello, World!')"
      ],
      "metadata": {
        "id": "tS_epAf__2uN",
        "colab": {
          "base_uri": "https://localhost:8080/"
        },
        "outputId": "8167be50-f4e0-4f83-ce7c-c9b6251fc064"
      },
      "execution_count": null,
      "outputs": [
        {
          "output_type": "stream",
          "name": "stdout",
          "text": [
            "Hello, World!\n"
          ]
        }
      ]
    },
    {
      "cell_type": "code",
      "source": [
        "#2 Write a Python program that displays your name and age.\n",
        "name = \"Vansh Kumar\"\n",
        "age = 26\n",
        "print(name)\n",
        "print(age)"
      ],
      "metadata": {
        "colab": {
          "base_uri": "https://localhost:8080/"
        },
        "id": "JxEqrKbdOLDi",
        "outputId": "f5e274ff-bc9f-4423-cd59-965fc73d1902"
      },
      "execution_count": 14,
      "outputs": [
        {
          "output_type": "stream",
          "name": "stdout",
          "text": [
            "Vansh Kumar\n",
            "26\n"
          ]
        }
      ]
    },
    {
      "cell_type": "code",
      "source": [
        "#3 Write code to print all the pre-defined keywords in Python using the keyword library.\n",
        "import keyword\n",
        "print(keyword.kwlist)"
      ],
      "metadata": {
        "colab": {
          "base_uri": "https://localhost:8080/"
        },
        "id": "jGXRrENcNLz1",
        "outputId": "ac8b4a77-311c-4984-bd3d-93483bedab36"
      },
      "execution_count": 16,
      "outputs": [
        {
          "output_type": "stream",
          "name": "stdout",
          "text": [
            "['False', 'None', 'True', 'and', 'as', 'assert', 'async', 'await', 'break', 'class', 'continue', 'def', 'del', 'elif', 'else', 'except', 'finally', 'for', 'from', 'global', 'if', 'import', 'in', 'is', 'lambda', 'nonlocal', 'not', 'or', 'pass', 'raise', 'return', 'try', 'while', 'with', 'yield']\n"
          ]
        }
      ]
    },
    {
      "cell_type": "code",
      "source": [
        "#4 Write a program that checks if a given word is a Python keyword.\n",
        "import keyword\n",
        "word = input(\"Enter a word: \")\n",
        "if keyword.iskeyword(word):\n",
        "  print(\"The word is a keyword\")\n",
        "else:\n",
        "  print(\"The word is not a keyword\")"
      ],
      "metadata": {
        "colab": {
          "base_uri": "https://localhost:8080/"
        },
        "id": "Ah2kLLQyPaeg",
        "outputId": "6a3a9d3d-b0ff-4282-eaaf-059a38479643"
      },
      "execution_count": 20,
      "outputs": [
        {
          "output_type": "stream",
          "name": "stdout",
          "text": [
            "Enter a word: pwskills\n",
            "The word is not a keyword\n"
          ]
        }
      ]
    },
    {
      "cell_type": "code",
      "source": [
        "#6 Create a list and tuple in Python, and demonstrate how attempting to change an element works differently for each.\n",
        "# Creating a list\n",
        "my_list = [1, 2, 3]\n",
        "\n",
        "# Creating a tuple\n",
        "my_tuple = (1, 2, 3)\n",
        "\n",
        "my_list[0] = 10\n",
        "print(\"Modified list:\", my_list)  # Output: Modified list: [10, 2, 3]\n",
        "\n",
        "# Attempt to change an element in the tuple\n",
        "try:\n",
        "    my_tuple[0] = 10\n",
        "except TypeError as e:\n",
        "    print(\"Error:\", e)  # Output: Error: 'tuple' object does not support item assignment\n"
      ],
      "metadata": {
        "colab": {
          "base_uri": "https://localhost:8080/"
        },
        "id": "2csyI7eYTx4Z",
        "outputId": "bf288441-6950-4076-b13e-5817c2e8febf"
      },
      "execution_count": 29,
      "outputs": [
        {
          "output_type": "stream",
          "name": "stdout",
          "text": [
            "Modified list: [10, 2, 3]\n",
            "Error: 'tuple' object does not support item assignment\n"
          ]
        }
      ]
    },
    {
      "cell_type": "code",
      "source": [
        "#7 Write a program to demonstrate the use of logical operators.\n",
        "# AND operator\n",
        "x = 5\n",
        "y = 10\n",
        "if x > -2 and y > 0:\n",
        "    print(\"Both x and y are positive.\")\n",
        "\n",
        "# OR operator\n",
        "a = 15\n",
        "b = -5\n",
        "if a > 10 or b > 10:\n",
        "    print(\"At least one of a or b is greater than 10.\")\n",
        "\n",
        "# NOT operator\n",
        "p = True\n",
        "if not p:\n",
        "    print(\"p is False\")\n",
        "else:\n",
        "    print(\"p is True\")"
      ],
      "metadata": {
        "colab": {
          "base_uri": "https://localhost:8080/"
        },
        "id": "WwPVSIXRW5t_",
        "outputId": "ae46abaa-22a3-4ec0-fbe5-60207d50e40c"
      },
      "execution_count": 31,
      "outputs": [
        {
          "output_type": "stream",
          "name": "stdout",
          "text": [
            "Both x and y are positive.\n",
            "At least one of a or b is greater than 10.\n",
            "p is True\n"
          ]
        }
      ]
    },
    {
      "cell_type": "code",
      "source": [
        "#8 Write a Python program to convert user input from string to integer, float, and boolean types.\n",
        "def convert_input():\n",
        "    user_input = input(\"Enter a value: \")\n",
        "\n",
        "    try:\n",
        "        integer_value = int(user_input)\n",
        "        print(\"Integer:\", integer_value)\n",
        "    except ValueError:\n",
        "        print(\"Invalid input for integer conversion.\")\n",
        "\n",
        "    try:\n",
        "        float_value = float(user_input)\n",
        "        print(\"Float:\", float_value)\n",
        "    except ValueError:\n",
        "        print(\"Invalid input for float conversion.\")\n",
        "    try:\n",
        "        integer_value = int(user_input)\n",
        "        print(\"Integer:\", integer_value)\n",
        "    except ValueError:\n",
        "        print(\"Invalid input for integer conversion.\")\n",
        "\n",
        "    try:\n",
        "        float_value = float(user_input)\n",
        "        print(\"Float:\", float_value)\n",
        "    except ValueError:\n",
        "        print(\"Invalid input for float conversion.\")"
      ],
      "metadata": {
        "id": "yuidqnFDXstE"
      },
      "execution_count": 47,
      "outputs": []
    },
    {
      "cell_type": "code",
      "source": [
        "#9 Write a program that checks if a number is positive, negative, or zero.\n",
        "a = 10\n",
        "if a > 0:\n",
        "   print(\"Positive\")\n",
        "elif a < 0:\n",
        "     print(\"Negative\")\n",
        "else:\n",
        "  print(\"Zero\")"
      ],
      "metadata": {
        "colab": {
          "base_uri": "https://localhost:8080/"
        },
        "id": "rWWj_7HTbJRa",
        "outputId": "23f5f4e7-11a3-4dbc-cff2-c3fae7830548"
      },
      "execution_count": 48,
      "outputs": [
        {
          "output_type": "stream",
          "name": "stdout",
          "text": [
            "Positive\n"
          ]
        }
      ]
    },
    {
      "cell_type": "code",
      "source": [
        "#10 Write a for loop to print numbers from 1 to 10.\n",
        "a = [1,2,3,4,5,6,7,8,9,10]\n",
        "for i in a:\n",
        "  print (i)"
      ],
      "metadata": {
        "colab": {
          "base_uri": "https://localhost:8080/"
        },
        "id": "kwvPZydXaGQA",
        "outputId": "38c0dcbb-373a-4846-9114-9ba7248e4f0f"
      },
      "execution_count": 50,
      "outputs": [
        {
          "output_type": "stream",
          "name": "stdout",
          "text": [
            "1\n",
            "2\n",
            "3\n",
            "4\n",
            "5\n",
            "6\n",
            "7\n",
            "8\n",
            "9\n",
            "10\n"
          ]
        }
      ]
    },
    {
      "cell_type": "code",
      "source": [
        "#11 Write a Python program to find the sum of all even numbers between 1 and 50.\n",
        "sum_of_evens = 0\n",
        "for i in range(2, 51, 2):\n",
        "    sum_of_evens += i\n",
        "print(\"The sum of all even numbers between 1 and 50 is:\", sum_of_evens)"
      ],
      "metadata": {
        "colab": {
          "base_uri": "https://localhost:8080/"
        },
        "id": "zruDg44acJgs",
        "outputId": "e8c0c663-3c56-4351-e263-66e26e7ac8d8"
      },
      "execution_count": 54,
      "outputs": [
        {
          "output_type": "stream",
          "name": "stdout",
          "text": [
            "The sum of all even numbers between 1 and 50 is: 650\n"
          ]
        }
      ]
    },
    {
      "cell_type": "code",
      "source": [
        "#12 Write a program to reverse a string using a while loop.\n",
        "No Idea"
      ],
      "metadata": {
        "id": "5nhGnKSTc5qq"
      },
      "execution_count": null,
      "outputs": []
    },
    {
      "cell_type": "code",
      "source": [],
      "metadata": {
        "id": "XLIEcHWRc797"
      },
      "execution_count": null,
      "outputs": []
    },
    {
      "cell_type": "code",
      "source": [],
      "metadata": {
        "id": "Hl-jd4w7c8Is"
      },
      "execution_count": null,
      "outputs": []
    }
  ]
}